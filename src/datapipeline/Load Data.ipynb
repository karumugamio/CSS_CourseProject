{
 "cells": [
  {
   "cell_type": "code",
   "execution_count": 1,
   "id": "eaa2e2db",
   "metadata": {},
   "outputs": [],
   "source": [
    "import boto3\n",
    "import pandas as pd\n",
    "\n",
    "# Get the service resource.\n",
    "dynamodb = boto3.resource('dynamodb')\n",
    "\n",
    "# Instantiate a table resource object without actually\n",
    "# creating a DynamoDB table. Note that the attributes of this table\n",
    "# are lazy-loaded: a request is not made nor are the attribute\n",
    "# values populated until the attributes\n",
    "# on the table resource are accessed or its load() method is called.\n",
    "\n"
   ]
  },
  {
   "cell_type": "code",
   "execution_count": 2,
   "id": "907b0ffb",
   "metadata": {},
   "outputs": [
    {
     "name": "stdout",
     "output_type": "stream",
     "text": [
      "::::::::::Count Stats::::::::::::::::::::\n",
      "(174186, 34)\n",
      "::::::::::::::combined::::::::::::::::\n",
      "<class 'pandas.core.frame.DataFrame'>\n",
      "Int64Index: 174186 entries, 0 to 2129\n",
      "Data columns (total 34 columns):\n",
      " #   Column                       Non-Null Count   Dtype \n",
      "---  ------                       --------------   ----- \n",
      " 0   state                        174154 non-null  object\n",
      " 1   year                         174154 non-null  object\n",
      " 2   constituency                 174186 non-null  object\n",
      " 3   ac_no                        155194 non-null  object\n",
      " 4   district                     170544 non-null  object\n",
      " 5   sub_region                   104659 non-null  object\n",
      " 6   reservations                 155194 non-null  object\n",
      " 7   candidate_name               174186 non-null  object\n",
      " 8   party                        174185 non-null  object\n",
      " 9   party_eci                    166869 non-null  object\n",
      " 10  url                          174186 non-null  object\n",
      " 11  winner                       174154 non-null  object\n",
      " 12  gender                       174173 non-null  object\n",
      " 13  age                          172927 non-null  object\n",
      " 14  so_do                        173559 non-null  object\n",
      " 15  address                      166347 non-null  object\n",
      " 16  profession                   120853 non-null  object\n",
      " 17  spouse_profession            103054 non-null  object\n",
      " 18  criminal_cases               174186 non-null  object\n",
      " 19  serious_criminal_cases       173877 non-null  object\n",
      " 20  education                    174186 non-null  object\n",
      " 21  assets                       174186 non-null  object\n",
      " 22  liabilities                  174186 non-null  object\n",
      " 23  net_assets                   174186 non-null  object\n",
      " 24  filed_itr                    125005 non-null  object\n",
      " 25  declared_pan                 174186 non-null  object\n",
      " 26  recontest_url                8809 non-null    object\n",
      " 27  recontest_assets_this        8809 non-null    object\n",
      " 28  recontest_assets_last        8806 non-null    object\n",
      " 29  recontest_assets_change      8658 non-null    object\n",
      " 30  recontest_remarks            4458 non-null    object\n",
      " 31  email                        398 non-null     object\n",
      " 32  phone                        852 non-null     object\n",
      " 33  recontest_assets_change_pct  164 non-null     object\n",
      "dtypes: object(34)\n",
      "memory usage: 46.5+ MB\n"
     ]
    }
   ],
   "source": [
    "\n",
    "\n",
    "# Read the csv file\n",
    "df1 = pd.read_csv('../../Data/andhra-pradesh/2009/andhra-pradesh_2009_candidates_MASTER.csv',dtype=str)\n",
    "df2 = pd.read_csv('../../Data/andhra-pradesh/2014/andhra-pradesh_2014_candidates_MASTER.csv',dtype=str)\n",
    "df3 = pd.read_csv('../../Data/andhra-pradesh/2019/andhra-pradesh_2019_candidates_MASTER.csv',dtype=str)\n",
    "df4 = pd.read_csv('../../Data/arunachal-pradesh/2004/arunachal-pradesh_2004_candidates_MASTER.csv',dtype=str)\n",
    "df5 = pd.read_csv('../../Data/arunachal-pradesh/2009/arunachal-pradesh_2009_candidates_MASTER.csv',dtype=str)\n",
    "df6 = pd.read_csv('../../Data/arunachal-pradesh/2014/arunachal-pradesh_2014_candidates_MASTER.csv',dtype=str)\n",
    "df7 = pd.read_csv('../../Data/arunachal-pradesh/2019/arunachal-pradesh_2019_candidates_MASTER.csv',dtype=str)\n",
    "df8 = pd.read_csv('../../Data/assam/2006/assam_2006_candidates_MASTER.csv',dtype=str)\n",
    "df9 = pd.read_csv('../../Data/assam/2011/assam_2011_candidates_MASTER.csv',dtype=str)\n",
    "df10 = pd.read_csv('../../Data/assam/2016/assam_2016_candidates_MASTER.csv',dtype=str)\n",
    "df11 = pd.read_csv('../../Data/assam/2021/assam_2021_candidates_MASTER.csv',dtype=str)\n",
    "df12 = pd.read_csv('../../Data/bihar/2005/bihar_2005_candidates_MASTER.csv',dtype=str)\n",
    "df13 = pd.read_csv('../../Data/bihar/2010/bihar_2010_candidates_MASTER.csv',dtype=str)\n",
    "df14 = pd.read_csv('../../Data/bihar/2015/bihar_2015_candidates_MASTER.csv',dtype=str)\n",
    "df15 = pd.read_csv('../../Data/bihar/2020/bihar_2020_candidates_MASTER.csv',dtype=str)\n",
    "df16 = pd.read_csv('../../Data/chhattisgarh/2008/chhattisgarh_2008_candidates_MASTER.csv',dtype=str)\n",
    "df17 = pd.read_csv('../../Data/chhattisgarh/2013/chhattisgarh_2013_candidates_MASTER.csv',dtype=str)\n",
    "df18 = pd.read_csv('../../Data/chhattisgarh/2018/chhattisgarh_2018_candidates_MASTER.csv',dtype=str)\n",
    "df19 = pd.read_csv('../../Data/delhi/2008/delhi_2008_candidates_MASTER.csv',dtype=str)\n",
    "df20 = pd.read_csv('../../Data/delhi/2013/delhi_2013_candidates_MASTER.csv',dtype=str)\n",
    "df21 = pd.read_csv('../../Data/delhi/2015/delhi_2015_candidates_MASTER.csv',dtype=str)\n",
    "df22 = pd.read_csv('../../Data/delhi/2020/delhi_2020_candidates_MASTER.csv',dtype=str)\n",
    "df23 = pd.read_csv('../../Data/goa/2007/goa_2007_candidates_MASTER.csv',dtype=str)\n",
    "df24 = pd.read_csv('../../Data/goa/2012/goa_2012_candidates_MASTER.csv',dtype=str)\n",
    "df25 = pd.read_csv('../../Data/goa/2017/goa_2017_candidates_MASTER.csv',dtype=str)\n",
    "df26 = pd.read_csv('../../Data/gujarat/2007/gujarat_2007_candidates_MASTER.csv',dtype=str)\n",
    "df27 = pd.read_csv('../../Data/gujarat/2012/gujarat_2012_candidates_MASTER.csv',dtype=str)\n",
    "df28 = pd.read_csv('../../Data/gujarat/2017/gujarat_2017_candidates_MASTER.csv',dtype=str)\n",
    "df29 = pd.read_csv('../../Data/haryana/2005/haryana_2005_candidates_MASTER.csv',dtype=str)\n",
    "df30 = pd.read_csv('../../Data/haryana/2009/haryana_2009_candidates_MASTER.csv',dtype=str)\n",
    "df31 = pd.read_csv('../../Data/haryana/2014/haryana_2014_candidates_MASTER.csv',dtype=str)\n",
    "df32 = pd.read_csv('../../Data/haryana/2019/haryana_2019_candidates_MASTER.csv',dtype=str)\n",
    "df33 = pd.read_csv('../../Data/himachal-pradesh/2007/himachal-pradesh_2007_candidates_MASTER.csv',dtype=str)\n",
    "df34 = pd.read_csv('../../Data/himachal-pradesh/2012/himachal-pradesh_2012_candidates_MASTER.csv',dtype=str)\n",
    "df35 = pd.read_csv('../../Data/himachal-pradesh/2017/himachal-pradesh_2017_candidates_MASTER.csv',dtype=str)\n",
    "df36 = pd.read_csv('../../Data/jammu-kashmir/2008/jammu-kashmir_2008_candidates_MASTER.csv',dtype=str)\n",
    "df37 = pd.read_csv('../../Data/jammu-kashmir/2014/jammu-kashmir_2014_candidates_MASTER.csv',dtype=str)\n",
    "df38 = pd.read_csv('../../Data/jharkhand/2005/jharkhand_2005_candidates_MASTER.csv',dtype=str)\n",
    "df39 = pd.read_csv('../../Data/jharkhand/2009/jharkhand_2009_candidates_MASTER.csv',dtype=str)\n",
    "df40 = pd.read_csv('../../Data/jharkhand/2014/jharkhand_2014_candidates_MASTER.csv',dtype=str)\n",
    "df41 = pd.read_csv('../../Data/jharkhand/2019/jharkhand_2019_candidates_MASTER.csv',dtype=str)\n",
    "df42 = pd.read_csv('../../Data/karnataka/2008/karnataka_2008_candidates_MASTER.csv',dtype=str)\n",
    "df43 = pd.read_csv('../../Data/karnataka/2013/karnataka_2013_candidates_MASTER.csv',dtype=str)\n",
    "df44 = pd.read_csv('../../Data/karnataka/2018/karnataka_2018_candidates_MASTER.csv',dtype=str)\n",
    "df45 = pd.read_csv('../../Data/kerala/2006/kerala_2006_candidates_MASTER.csv',dtype=str)\n",
    "df46 = pd.read_csv('../../Data/kerala/2011/kerala_2011_candidates_MASTER.csv',dtype=str)\n",
    "df47 = pd.read_csv('../../Data/kerala/2016/kerala_2016_candidates_MASTER.csv',dtype=str)\n",
    "df48 = pd.read_csv('../../Data/kerala/2021/kerala_2021_candidates_MASTER.csv',dtype=str)\n",
    "df49 = pd.read_csv('../../Data/lok-sabha/2004/lok-sabha_2004_candidates_MASTER.csv',dtype=str)\n",
    "df50 = pd.read_csv('../../Data/lok-sabha/2009/lok-sabha_2009_candidates_MASTER.csv',dtype=str)\n",
    "df51 = pd.read_csv('../../Data/lok-sabha/2014/lok-sabha_2014_candidates_MASTER.csv',dtype=str)\n",
    "df52 = pd.read_csv('../../Data/lok-sabha/2019/lok-sabha_2019_candidates_MASTER.csv',dtype=str)\n",
    "df53 = pd.read_csv('../../Data/madhya-pradesh/2008/madhya-pradesh_2008_candidates_MASTER.csv',dtype=str)\n",
    "df54 = pd.read_csv('../../Data/madhya-pradesh/2013/madhya-pradesh_2013_candidates_MASTER.csv',dtype=str)\n",
    "df55 = pd.read_csv('../../Data/madhya-pradesh/2018/madhya-pradesh_2018_candidates_MASTER.csv',dtype=str)\n",
    "df56 = pd.read_csv('../../Data/maharashtra/2004/maharashtra_2004_candidates_MASTER.csv',dtype=str)\n",
    "df57 = pd.read_csv('../../Data/maharashtra/2009/maharashtra_2009_candidates_MASTER.csv',dtype=str)\n",
    "df58 = pd.read_csv('../../Data/maharashtra/2014/maharashtra_2014_candidates_MASTER.csv',dtype=str)\n",
    "df59 = pd.read_csv('../../Data/maharashtra/2019/maharashtra_2019_candidates_MASTER.csv',dtype=str)\n",
    "df60 = pd.read_csv('../../Data/manipur/2007/manipur_2007_candidates_MASTER.csv',dtype=str)\n",
    "df61 = pd.read_csv('../../Data/manipur/2012/manipur_2012_candidates_MASTER.csv',dtype=str)\n",
    "df62 = pd.read_csv('../../Data/manipur/2017/manipur_2017_candidates_MASTER.csv',dtype=str)\n",
    "df63 = pd.read_csv('../../Data/meghalaya/2008/meghalaya_2008_candidates_MASTER.csv',dtype=str)\n",
    "df64 = pd.read_csv('../../Data/meghalaya/2013/meghalaya_2013_candidates_MASTER.csv',dtype=str)\n",
    "df65 = pd.read_csv('../../Data/meghalaya/2018/meghalaya_2018_candidates_MASTER.csv',dtype=str)\n",
    "df66 = pd.read_csv('../../Data/mizoram/2008/mizoram_2008_candidates_MASTER.csv',dtype=str)\n",
    "df67 = pd.read_csv('../../Data/mizoram/2013/mizoram_2013_candidates_MASTER.csv',dtype=str)\n",
    "df68 = pd.read_csv('../../Data/mizoram/2018/mizoram_2018_candidates_MASTER.csv',dtype=str)\n",
    "df69 = pd.read_csv('../../Data/nagaland/2008/nagaland_2008_candidates_MASTER.csv',dtype=str)\n",
    "df70 = pd.read_csv('../../Data/nagaland/2013/nagaland_2013_candidates_MASTER.csv',dtype=str)\n",
    "df71 = pd.read_csv('../../Data/nagaland/2018/nagaland_2018_candidates_MASTER.csv',dtype=str)\n",
    "df72 = pd.read_csv('../../Data/odisha/2004/odisha_2004_candidates_MASTER.csv',dtype=str)\n",
    "df73 = pd.read_csv('../../Data/odisha/2009/odisha_2009_candidates_MASTER.csv',dtype=str)\n",
    "df74 = pd.read_csv('../../Data/odisha/2014/odisha_2014_candidates_MASTER.csv',dtype=str)\n",
    "df75 = pd.read_csv('../../Data/odisha/2019/odisha_2019_candidates_MASTER.csv',dtype=str)\n",
    "df76 = pd.read_csv('../../Data/puducherry/2006/puducherry_2006_candidates_MASTER.csv',dtype=str)\n",
    "df77 = pd.read_csv('../../Data/puducherry/2011/puducherry_2011_candidates_MASTER.csv',dtype=str)\n",
    "df78 = pd.read_csv('../../Data/puducherry/2016/puducherry_2016_candidates_MASTER.csv',dtype=str)\n",
    "df79 = pd.read_csv('../../Data/puducherry/2021/puducherry_2021_candidates_MASTER.csv',dtype=str)\n",
    "df80 = pd.read_csv('../../Data/punjab/2007/punjab_2007_candidates_MASTER.csv',dtype=str)\n",
    "df81 = pd.read_csv('../../Data/punjab/2012/punjab_2012_candidates_MASTER.csv',dtype=str)\n",
    "df82 = pd.read_csv('../../Data/punjab/2017/punjab_2017_candidates_MASTER.csv',dtype=str)\n",
    "df83 = pd.read_csv('../../Data/punjab/2022/punjab_2022_candidates_MASTER.csv',dtype=str)\n",
    "df84 = pd.read_csv('../../Data/rajasthan/2008/rajasthan_2008_candidates_MASTER.csv',dtype=str)\n",
    "df85 = pd.read_csv('../../Data/rajasthan/2013/rajasthan_2013_candidates_MASTER.csv',dtype=str)\n",
    "df86 = pd.read_csv('../../Data/rajasthan/2018/rajasthan_2018_candidates_MASTER.csv',dtype=str)\n",
    "df87 = pd.read_csv('../../Data/sikkim/2004/sikkim_2004_candidates_MASTER.csv',dtype=str)\n",
    "df88 = pd.read_csv('../../Data/sikkim/2009/sikkim_2009_candidates_MASTER.csv',dtype=str)\n",
    "df89 = pd.read_csv('../../Data/sikkim/2014/sikkim_2014_candidates_MASTER.csv',dtype=str)\n",
    "df90 = pd.read_csv('../../Data/sikkim/2019/sikkim_2019_candidates_MASTER.csv',dtype=str)\n",
    "df91 = pd.read_csv('../../Data/tamil-nadu/2006/tamil-nadu_2006_candidates_MASTER.csv',dtype=str)\n",
    "df92 = pd.read_csv('../../Data/tamil-nadu/2011/tamil-nadu_2011_candidates_MASTER.csv',dtype=str)\n",
    "df93 = pd.read_csv('../../Data/tamil-nadu/2016/tamil-nadu_2016_candidates_MASTER.csv',dtype=str)\n",
    "df94 = pd.read_csv('../../Data/tamil-nadu/2021/tamil-nadu_2021_candidates_MASTER.csv',dtype=str)\n",
    "df95 = pd.read_csv('../../Data/telangana/2014/telangana_2014_candidates_MASTER.csv',dtype=str)\n",
    "df96 = pd.read_csv('../../Data/telangana/2018/telangana_2018_candidates_MASTER.csv',dtype=str)\n",
    "df97 = pd.read_csv('../../Data/tripura/2008/tripura_2008_candidates_MASTER.csv',dtype=str)\n",
    "df98 = pd.read_csv('../../Data/tripura/2013/tripura_2013_candidates_MASTER.csv',dtype=str)\n",
    "df99 = pd.read_csv('../../Data/tripura/2018/tripura_2018_candidates_MASTER.csv',dtype=str)\n",
    "df100 = pd.read_csv('../../Data/up/2007/uttar-pradesh_2007_candidates_MASTER.csv',dtype=str)\n",
    "df101 = pd.read_csv('../../Data/up/2012/uttar-pradesh_2012_candidates_MASTER.csv',dtype=str)\n",
    "df102 = pd.read_csv('../../Data/up/2017/uttar-pradesh_2017_candidates_MASTER.csv',dtype=str)\n",
    "df103 = pd.read_csv('../../Data/up/2022/uttar-pradesh_2022_candidates_MASTER.csv',dtype=str)\n",
    "df104 = pd.read_csv('../../Data/uttar-pradesh/2007/uttar-pradesh_2007_candidates_MASTER.csv',dtype=str)\n",
    "df105 = pd.read_csv('../../Data/uttar-pradesh/2012/uttar-pradesh_2012_candidates_MASTER.csv',dtype=str)\n",
    "df106 = pd.read_csv('../../Data/uttar-pradesh/2017/uttar-pradesh_2017_candidates_MASTER.csv',dtype=str)\n",
    "df107 = pd.read_csv('../../Data/uttar-pradesh/2022/uttar-pradesh_2022_candidates_MASTER.csv',dtype=str)\n",
    "df108 = pd.read_csv('../../Data/uttarakhand/2007/uttarakhand_2007_candidates_MASTER.csv',dtype=str)\n",
    "df109 = pd.read_csv('../../Data/uttarakhand/2012/uttarakhand_2012_candidates_MASTER.csv',dtype=str)\n",
    "df110 = pd.read_csv('../../Data/uttarakhand/2017/uttarakhand_2017_candidates_MASTER.csv',dtype=str)\n",
    "df111 = pd.read_csv('../../Data/west-bengal/2006/west-bengal_2006_candidates_MASTER.csv',dtype=str)\n",
    "df112 = pd.read_csv('../../Data/west-bengal/2011/west-bengal_2011_candidates_MASTER.csv',dtype=str)\n",
    "df113 = pd.read_csv('../../Data/west-bengal/2016/west-bengal_2016_candidates_MASTER.csv',dtype=str)\n",
    "df114 = pd.read_csv('../../Data/west-bengal/2021/west-bengal_2021_candidates_MASTER.csv',dtype=str)\n",
    "\n",
    "#Data\\up\\2017\\uttar-pradesh_2017_candidates_MASTER.csv\n",
    "#Data\\up\\2012\\uttar-pradesh_2012_candidates_MASTER.csv\n",
    "#Data\\up\\2007\\uttar-pradesh_2007_candidates_MASTER.csv\n",
    "# First 5 row()s\n",
    "df = pd.concat([df1\n",
    " ,df2\n",
    " ,df3\n",
    " ,df4\n",
    " ,df5\n",
    " ,df6\n",
    " ,df7\n",
    " ,df8\n",
    " ,df9\n",
    " ,df10\n",
    " ,df11\n",
    " ,df12\n",
    " ,df13\n",
    " ,df14\n",
    " ,df15\n",
    " ,df16\n",
    " ,df17\n",
    " ,df18\n",
    " ,df19\n",
    " ,df20\n",
    " ,df21\n",
    " ,df22\n",
    " ,df23\n",
    " ,df24\n",
    " ,df25\n",
    " ,df26\n",
    " ,df27\n",
    " ,df28\n",
    " ,df29\n",
    " ,df30\n",
    " ,df31\n",
    " ,df32\n",
    " ,df33\n",
    " ,df34\n",
    " ,df35\n",
    " ,df36\n",
    " ,df37\n",
    " ,df38\n",
    " ,df39\n",
    " ,df40\n",
    " ,df41\n",
    " ,df42\n",
    " ,df43\n",
    " ,df44\n",
    " ,df45\n",
    " ,df46\n",
    " ,df47\n",
    " ,df48\n",
    " ,df49\n",
    " ,df50\n",
    " ,df51\n",
    " ,df52\n",
    " ,df53\n",
    " ,df54\n",
    " ,df55\n",
    " ,df56\n",
    " ,df57\n",
    " ,df58\n",
    " ,df59\n",
    " ,df60\n",
    " ,df61\n",
    " ,df62\n",
    " ,df63\n",
    " ,df64\n",
    " ,df65\n",
    " ,df66\n",
    " ,df67\n",
    " ,df68\n",
    " ,df69\n",
    " ,df70\n",
    " ,df71\n",
    " ,df72\n",
    " ,df73\n",
    " ,df74\n",
    " ,df75\n",
    " ,df76\n",
    " ,df77\n",
    " ,df78\n",
    " ,df79\n",
    " ,df80\n",
    " ,df81\n",
    " ,df82\n",
    " ,df83\n",
    " ,df84\n",
    " ,df85\n",
    " ,df86\n",
    " ,df87\n",
    " ,df88\n",
    " ,df89\n",
    " ,df90\n",
    " ,df91\n",
    " ,df92\n",
    " ,df93\n",
    " ,df94\n",
    " ,df95\n",
    " ,df96\n",
    " ,df97\n",
    " ,df98\n",
    " ,df99\n",
    " ,df100\n",
    " ,df101\n",
    " ,df102\n",
    " ,df103\n",
    " ,df104\n",
    " ,df105\n",
    " ,df106\n",
    " ,df107\n",
    " ,df108\n",
    " ,df109\n",
    " ,df110\n",
    " ,df111\n",
    " ,df112\n",
    " ,df113\n",
    " ,df114\n",
    "\n",
    "])\n",
    "\n",
    "print('::::::::::Count Stats::::::::::::::::::::')\n",
    "\n",
    "\n",
    "print(df.shape)\n",
    "print('::::::::::::::combined::::::::::::::::')\n",
    "df.info()\n",
    "\n",
    "\n",
    "\n",
    "\n"
   ]
  },
  {
   "cell_type": "code",
   "execution_count": 3,
   "id": "9f1ef03e",
   "metadata": {},
   "outputs": [
    {
     "data": {
      "text/plain": [
       "array(['Andhra Pradesh', 'Arunachal Pradesh', 'Assam', 'Bihar',\n",
       "       'Chhattisgarh', 'Delhi', 'Goa', 'Gujarat', 'Haryana',\n",
       "       'Himachal Pradesh', nan, 'Jammu & Kashmir', 'Jharkhand',\n",
       "       'Karnataka', 'Kerala', 'Lok Sabha', 'Madhya Pradesh',\n",
       "       'Maharashtra', 'Manipur', 'Meghalaya', 'Mizoram', 'Nagaland',\n",
       "       'Odisha', 'Puducherry', 'Punjab', 'Rajasthan', 'Sikkim',\n",
       "       'Tamil Nadu', 'Telangana', 'Tripura', 'Uttar Pradesh',\n",
       "       'Uttarakhand', 'West Bengal'], dtype=object)"
      ]
     },
     "execution_count": 3,
     "metadata": {},
     "output_type": "execute_result"
    }
   ],
   "source": [
    "df.state.unique()"
   ]
  },
  {
   "cell_type": "code",
   "execution_count": 4,
   "id": "1792d4f9",
   "metadata": {},
   "outputs": [
    {
     "data": {
      "text/plain": [
       "array(['Andhra_Pradesh', 'Arunachal_Pradesh', 'Assam', 'Bihar',\n",
       "       'Chhattisgarh', 'Delhi', 'Goa', 'Gujarat', 'Haryana',\n",
       "       'Himachal_Pradesh', nan, 'Jammu_&_Kashmir', 'Jharkhand',\n",
       "       'Karnataka', 'Kerala', 'Lok_Sabha', 'Madhya_Pradesh',\n",
       "       'Maharashtra', 'Manipur', 'Meghalaya', 'Mizoram', 'Nagaland',\n",
       "       'Odisha', 'Puducherry', 'Punjab', 'Rajasthan', 'Sikkim',\n",
       "       'Tamil_Nadu', 'Telangana', 'Tripura', 'Uttar_Pradesh',\n",
       "       'Uttarakhand', 'West_Bengal'], dtype=object)"
      ]
     },
     "execution_count": 4,
     "metadata": {},
     "output_type": "execute_result"
    }
   ],
   "source": [
    "df.state.replace('\\s+', '_',regex=True,inplace=True)\n",
    "df.state.unique()"
   ]
  },
  {
   "cell_type": "code",
   "execution_count": 5,
   "id": "0f671894",
   "metadata": {},
   "outputs": [
    {
     "data": {
      "text/plain": [
       "Index(['state', 'year', 'constituency', 'ac_no', 'district', 'sub_region',\n",
       "       'reservations', 'candidate_name', 'party', 'party_eci', 'url', 'winner',\n",
       "       'gender', 'age', 'so_do', 'address', 'profession', 'spouse_profession',\n",
       "       'criminal_cases', 'serious_criminal_cases', 'education', 'assets',\n",
       "       'liabilities', 'net_assets', 'filed_itr', 'declared_pan',\n",
       "       'recontest_url', 'recontest_assets_this', 'recontest_assets_last',\n",
       "       'recontest_assets_change', 'recontest_remarks', 'email', 'phone',\n",
       "       'recontest_assets_change_pct'],\n",
       "      dtype='object')"
      ]
     },
     "execution_count": 5,
     "metadata": {},
     "output_type": "execute_result"
    }
   ],
   "source": [
    "df.columns"
   ]
  },
  {
   "cell_type": "code",
   "execution_count": 6,
   "id": "1938f9b1",
   "metadata": {},
   "outputs": [],
   "source": [
    "df[['removableurl','CandidateID']] = df['url'].str.split('candidate_id=',expand=True)"
   ]
  },
  {
   "cell_type": "code",
   "execution_count": 7,
   "id": "d8c32dee",
   "metadata": {},
   "outputs": [
    {
     "name": "stdout",
     "output_type": "stream",
     "text": [
      "(174186, 36)\n",
      "174186\n"
     ]
    },
    {
     "name": "stderr",
     "output_type": "stream",
     "text": [
      "C:\\Users\\Karthikeyan Arumugam\\AppData\\Local\\Temp\\ipykernel_22616\\1478979950.py:4: FutureWarning: In a future version of pandas all arguments of DataFrame.drop except for the argument 'labels' will be keyword-only.\n",
      "  df = df.drop('removableurl', 1)\n"
     ]
    },
    {
     "name": "stdout",
     "output_type": "stream",
     "text": [
      "(174186, 35)\n"
     ]
    }
   ],
   "source": [
    "print(df.shape)\n",
    "print(len(df['CandidateID']))\n",
    "\n",
    "df = df.drop('removableurl', 1)\n",
    "print(df.shape)\n"
   ]
  },
  {
   "cell_type": "code",
   "execution_count": 8,
   "id": "fd6e243d",
   "metadata": {},
   "outputs": [],
   "source": [
    "df.rename(columns = {'year':'electionyear'}, inplace = True)"
   ]
  },
  {
   "cell_type": "markdown",
   "id": "b8ae4682",
   "metadata": {},
   "source": [
    "# create key column for dynamo DB"
   ]
  },
  {
   "cell_type": "code",
   "execution_count": 9,
   "id": "9360433d",
   "metadata": {},
   "outputs": [
    {
     "name": "stdout",
     "output_type": "stream",
     "text": [
      "174186\n"
     ]
    }
   ],
   "source": [
    "df['affidavit_id'] = df[\"electionyear\"]+df['state']+df[\"CandidateID\"]\n",
    "print(len(df['electionyear']))\n"
   ]
  },
  {
   "cell_type": "markdown",
   "id": "8215f401",
   "metadata": {},
   "source": [
    "# Fill Null values with NOT_AVAILABLE\n"
   ]
  },
  {
   "cell_type": "code",
   "execution_count": 10,
   "id": "81a296ff",
   "metadata": {},
   "outputs": [
    {
     "name": "stdout",
     "output_type": "stream",
     "text": [
      "<class 'pandas.core.frame.DataFrame'>\n",
      "Int64Index: 174186 entries, 0 to 2129\n",
      "Data columns (total 36 columns):\n",
      " #   Column                       Non-Null Count   Dtype \n",
      "---  ------                       --------------   ----- \n",
      " 0   state                        174154 non-null  object\n",
      " 1   electionyear                 174154 non-null  object\n",
      " 2   constituency                 174186 non-null  object\n",
      " 3   ac_no                        155194 non-null  object\n",
      " 4   district                     170544 non-null  object\n",
      " 5   sub_region                   104659 non-null  object\n",
      " 6   reservations                 155194 non-null  object\n",
      " 7   candidate_name               174186 non-null  object\n",
      " 8   party                        174185 non-null  object\n",
      " 9   party_eci                    166869 non-null  object\n",
      " 10  url                          174186 non-null  object\n",
      " 11  winner                       174154 non-null  object\n",
      " 12  gender                       174173 non-null  object\n",
      " 13  age                          172927 non-null  object\n",
      " 14  so_do                        173559 non-null  object\n",
      " 15  address                      166347 non-null  object\n",
      " 16  profession                   120853 non-null  object\n",
      " 17  spouse_profession            103054 non-null  object\n",
      " 18  criminal_cases               174186 non-null  object\n",
      " 19  serious_criminal_cases       173877 non-null  object\n",
      " 20  education                    174186 non-null  object\n",
      " 21  assets                       174186 non-null  object\n",
      " 22  liabilities                  174186 non-null  object\n",
      " 23  net_assets                   174186 non-null  object\n",
      " 24  filed_itr                    125005 non-null  object\n",
      " 25  declared_pan                 174186 non-null  object\n",
      " 26  recontest_url                8809 non-null    object\n",
      " 27  recontest_assets_this        8809 non-null    object\n",
      " 28  recontest_assets_last        8806 non-null    object\n",
      " 29  recontest_assets_change      8658 non-null    object\n",
      " 30  recontest_remarks            4458 non-null    object\n",
      " 31  email                        398 non-null     object\n",
      " 32  phone                        852 non-null     object\n",
      " 33  recontest_assets_change_pct  164 non-null     object\n",
      " 34  CandidateID                  174186 non-null  object\n",
      " 35  affidavit_id                 174154 non-null  object\n",
      "dtypes: object(36)\n",
      "memory usage: 49.2+ MB\n"
     ]
    }
   ],
   "source": [
    "df.info()"
   ]
  },
  {
   "cell_type": "code",
   "execution_count": 11,
   "id": "d154fd92",
   "metadata": {},
   "outputs": [
    {
     "name": "stdout",
     "output_type": "stream",
     "text": [
      "<class 'pandas.core.frame.DataFrame'>\n",
      "Int64Index: 174186 entries, 0 to 2129\n",
      "Data columns (total 36 columns):\n",
      " #   Column                       Non-Null Count   Dtype \n",
      "---  ------                       --------------   ----- \n",
      " 0   state                        174186 non-null  object\n",
      " 1   electionyear                 174186 non-null  object\n",
      " 2   constituency                 174186 non-null  object\n",
      " 3   ac_no                        174186 non-null  object\n",
      " 4   district                     174186 non-null  object\n",
      " 5   sub_region                   174186 non-null  object\n",
      " 6   reservations                 174186 non-null  object\n",
      " 7   candidate_name               174186 non-null  object\n",
      " 8   party                        174186 non-null  object\n",
      " 9   party_eci                    174186 non-null  object\n",
      " 10  url                          174186 non-null  object\n",
      " 11  winner                       174186 non-null  object\n",
      " 12  gender                       174186 non-null  object\n",
      " 13  age                          174186 non-null  object\n",
      " 14  so_do                        174186 non-null  object\n",
      " 15  address                      174186 non-null  object\n",
      " 16  profession                   174186 non-null  object\n",
      " 17  spouse_profession            174186 non-null  object\n",
      " 18  criminal_cases               174186 non-null  object\n",
      " 19  serious_criminal_cases       174186 non-null  object\n",
      " 20  education                    174186 non-null  object\n",
      " 21  assets                       174186 non-null  object\n",
      " 22  liabilities                  174186 non-null  object\n",
      " 23  net_assets                   174186 non-null  object\n",
      " 24  filed_itr                    174186 non-null  object\n",
      " 25  declared_pan                 174186 non-null  object\n",
      " 26  recontest_url                174186 non-null  object\n",
      " 27  recontest_assets_this        174186 non-null  object\n",
      " 28  recontest_assets_last        174186 non-null  object\n",
      " 29  recontest_assets_change      174186 non-null  object\n",
      " 30  recontest_remarks            174186 non-null  object\n",
      " 31  email                        174186 non-null  object\n",
      " 32  phone                        174186 non-null  object\n",
      " 33  recontest_assets_change_pct  174186 non-null  object\n",
      " 34  CandidateID                  174186 non-null  object\n",
      " 35  affidavit_id                 174154 non-null  object\n",
      "dtypes: object(36)\n",
      "memory usage: 49.2+ MB\n"
     ]
    }
   ],
   "source": [
    "df=df.dropna(axis=1,how='all')\n",
    "\n",
    "\n",
    "df['age']= df['age'].fillna('NOT_AVAILABLE')\n",
    "df['so_do']= df['so_do'].fillna('NOT_AVAILABLE')\n",
    "df['address']= df['address'].fillna('NOT_AVAILABLE')\n",
    "df['ac_no']= df['ac_no'].fillna('NOT_AVAILABLE')\n",
    "df['sub_region']= df['sub_region'].fillna('NOT_AVAILABLE')\n",
    "df['reservations']= df['reservations'].fillna('NOT_AVAILABLE')\n",
    "df['party_eci']= df['party_eci'].fillna('NOT_AVAILABLE')\n",
    "df['profession']= df['profession'].fillna('NOT_AVAILABLE')\n",
    "df['spouse_profession']= df['spouse_profession'].fillna('NOT_AVAILABLE')\n",
    "df['recontest_url']= df['recontest_url'].fillna('NOT_AVAILABLE')\n",
    "df['filed_itr']= df['filed_itr'].fillna('NOT_AVAILABLE')\n",
    "df['recontest_assets_this']= df['recontest_assets_this'].fillna('NOT_AVAILABLE')\n",
    "\n",
    "df['recontest_assets_last']= df['recontest_assets_last'].fillna('NOT_AVAILABLE')\n",
    "\n",
    "df['recontest_assets_change']= df['recontest_assets_change'].fillna('NOT_AVAILABLE')\n",
    "\n",
    "df['recontest_remarks']= df['recontest_remarks'].fillna('NOT_AVAILABLE')\n",
    "df['state']= df['state'].fillna('NOT_AVAILABLE')\n",
    "df['electionyear']= df['electionyear'].fillna('NOT_AVAILABLE')\n",
    "df['district']= df['district'].fillna('NOT_AVAILABLE')\n",
    "df['party']= df['party'].fillna('NOT_AVAILABLE')\n",
    "df['winner']= df['winner'].fillna('NOT_AVAILABLE')  \n",
    "df['gender']= df['gender'].fillna('NOT_AVAILABLE')  \n",
    "df['serious_criminal_cases'] = df['serious_criminal_cases'].fillna('NOT_AVAILABLE')  \n",
    "df['email'] = df['email'].fillna('NOT_AVAILABLE') \n",
    "df['phone'] = df['phone'].fillna('NOT_AVAILABLE') \n",
    "df['recontest_assets_change_pct'] = df['recontest_assets_change_pct'].fillna('NOT_AVAILABLE')     \n",
    "   \n",
    "\n",
    "df.info()"
   ]
  },
  {
   "cell_type": "code",
   "execution_count": 12,
   "id": "e70795dc",
   "metadata": {},
   "outputs": [
    {
     "data": {
      "text/plain": [
       "array(['2009', '2014', '2019', '2004', '2006', '2011', '2016', '2021',\n",
       "       '2005', '2010', '2015', '2020', '2008', '2013', '2018', '2007',\n",
       "       '2012', '2017', 'NOT_AVAILABLE', '2022'], dtype=object)"
      ]
     },
     "execution_count": 12,
     "metadata": {},
     "output_type": "execute_result"
    }
   ],
   "source": [
    "df.electionyear.unique()"
   ]
  },
  {
   "cell_type": "code",
   "execution_count": 13,
   "id": "8aa743ce",
   "metadata": {},
   "outputs": [
    {
     "name": "stdout",
     "output_type": "stream",
     "text": [
      "2022-04-15 20:20:17.021000+05:30\n"
     ]
    }
   ],
   "source": [
    "table = dynamodb.Table('CSSCourseProject_affidavit_data')\n",
    "\n",
    "print(table.creation_date_time)"
   ]
  },
  {
   "cell_type": "markdown",
   "id": "1151d256",
   "metadata": {},
   "source": [
    "# Batch Write to Dynamo DB"
   ]
  },
  {
   "cell_type": "code",
   "execution_count": null,
   "id": "92c2cebc",
   "metadata": {},
   "outputs": [],
   "source": [
    "items = df.to_dict(orient = 'records')\n",
    "\n",
    "with table.batch_writer() as batch:\n",
    "    for r in items:\n",
    "        batch.put_item(Item=r)"
   ]
  },
  {
   "cell_type": "code",
   "execution_count": null,
   "id": "1b3c8f49",
   "metadata": {},
   "outputs": [],
   "source": []
  },
  {
   "cell_type": "code",
   "execution_count": null,
   "id": "be4b0f0a",
   "metadata": {},
   "outputs": [],
   "source": []
  }
 ],
 "metadata": {
  "kernelspec": {
   "display_name": "Python 3 (ipykernel)",
   "language": "python",
   "name": "python3"
  },
  "language_info": {
   "codemirror_mode": {
    "name": "ipython",
    "version": 3
   },
   "file_extension": ".py",
   "mimetype": "text/x-python",
   "name": "python",
   "nbconvert_exporter": "python",
   "pygments_lexer": "ipython3",
   "version": "3.10.4"
  }
 },
 "nbformat": 4,
 "nbformat_minor": 5
}
