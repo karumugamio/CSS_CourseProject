{
 "cells": [
  {
   "cell_type": "code",
   "execution_count": 1,
   "id": "eaa2e2db",
   "metadata": {},
   "outputs": [],
   "source": [
    "import boto3\n",
    "import pandas as pd\n",
    "\n",
    "# Get the service resource.\n",
    "dynamodb = boto3.resource('dynamodb')\n",
    "\n",
    "# Instantiate a table resource object without actually\n",
    "# creating a DynamoDB table. Note that the attributes of this table\n",
    "# are lazy-loaded: a request is not made nor are the attribute\n",
    "# values populated until the attributes\n",
    "# on the table resource are accessed or its load() method is called.\n",
    "table = dynamodb.Table('affidavitdata')\n"
   ]
  },
  {
   "cell_type": "code",
   "execution_count": 2,
   "id": "907b0ffb",
   "metadata": {},
   "outputs": [
    {
     "name": "stdout",
     "output_type": "stream",
     "text": [
      "::::::::::Count Stats::::::::::::::::::::\n",
      "(3189, 31)\n",
      "(6590, 31)\n",
      "(4823, 31)\n",
      "(2449, 31)\n",
      "(17051, 31)\n",
      "::::::::::::::combined::::::::::::::::\n",
      "<class 'pandas.core.frame.DataFrame'>\n",
      "Int64Index: 17051 entries, 0 to 3188\n",
      "Data columns (total 31 columns):\n",
      " #   Column                   Non-Null Count  Dtype \n",
      "---  ------                   --------------  ----- \n",
      " 0   state                    17051 non-null  object\n",
      " 1   year                     17051 non-null  object\n",
      " 2   constituency             17051 non-null  object\n",
      " 3   ac_no                    14602 non-null  object\n",
      " 4   district                 17051 non-null  object\n",
      " 5   sub_region               11413 non-null  object\n",
      " 6   reservations             14602 non-null  object\n",
      " 7   candidate_name           17051 non-null  object\n",
      " 8   party                    17051 non-null  object\n",
      " 9   party_eci                14602 non-null  object\n",
      " 10  url                      17051 non-null  object\n",
      " 11  winner                   17051 non-null  object\n",
      " 12  gender                   17051 non-null  object\n",
      " 13  age                      16907 non-null  object\n",
      " 14  so_do                    17044 non-null  object\n",
      " 15  address                  14592 non-null  object\n",
      " 16  profession               12911 non-null  object\n",
      " 17  spouse_profession        10353 non-null  object\n",
      " 18  criminal_cases           17051 non-null  object\n",
      " 19  serious_criminal_cases   17051 non-null  object\n",
      " 20  education                17051 non-null  object\n",
      " 21  assets                   17051 non-null  object\n",
      " 22  liabilities              17051 non-null  object\n",
      " 23  net_assets               17051 non-null  object\n",
      " 24  filed_itr                13862 non-null  object\n",
      " 25  declared_pan             17051 non-null  object\n",
      " 26  recontest_url            751 non-null    object\n",
      " 27  recontest_assets_this    751 non-null    object\n",
      " 28  recontest_assets_last    751 non-null    object\n",
      " 29  recontest_assets_change  751 non-null    object\n",
      " 30  recontest_remarks        394 non-null    object\n",
      "dtypes: object(31)\n",
      "memory usage: 4.2+ MB\n"
     ]
    }
   ],
   "source": [
    "\n",
    "# Read the csv file\n",
    "df2022 = pd.read_csv('../../Data/up/2022/uttar-pradesh_2022_candidates_MASTER.csv',dtype=str)\n",
    "df2017 = pd.read_csv('../../Data/up/2017/uttar-pradesh_2017_candidates_MASTER.csv',dtype=str)\n",
    "df2012 = pd.read_csv('../../Data/up/2012/uttar-pradesh_2012_candidates_MASTER.csv',dtype=str)\n",
    "df2007 = pd.read_csv('../../Data/up/2007/uttar-pradesh_2007_candidates_MASTER.csv',dtype=str)\n",
    "#Data\\up\\2017\\uttar-pradesh_2017_candidates_MASTER.csv\n",
    "#Data\\up\\2012\\uttar-pradesh_2012_candidates_MASTER.csv\n",
    "#Data\\up\\2007\\uttar-pradesh_2007_candidates_MASTER.csv\n",
    "# First 5 row()s\n",
    "df = pd.concat([df2022,df2017,df2012,df2007])\n",
    "\n",
    "print('::::::::::Count Stats::::::::::::::::::::')\n",
    "print(df2007.shape)\n",
    "print(df2012.shape)\n",
    "print(df2017.shape)\n",
    "print(df2022.shape)\n",
    "\n",
    "print(df.shape)\n",
    "print('::::::::::::::combined::::::::::::::::')\n",
    "df.info()\n",
    "\n",
    "\n",
    "\n"
   ]
  },
  {
   "cell_type": "code",
   "execution_count": null,
   "id": "9f1ef03e",
   "metadata": {},
   "outputs": [],
   "source": []
  },
  {
   "cell_type": "code",
   "execution_count": 3,
   "id": "0f671894",
   "metadata": {},
   "outputs": [
    {
     "data": {
      "text/plain": [
       "Index(['state', 'year', 'constituency', 'ac_no', 'district', 'sub_region',\n",
       "       'reservations', 'candidate_name', 'party', 'party_eci', 'url', 'winner',\n",
       "       'gender', 'age', 'so_do', 'address', 'profession', 'spouse_profession',\n",
       "       'criminal_cases', 'serious_criminal_cases', 'education', 'assets',\n",
       "       'liabilities', 'net_assets', 'filed_itr', 'declared_pan',\n",
       "       'recontest_url', 'recontest_assets_this', 'recontest_assets_last',\n",
       "       'recontest_assets_change', 'recontest_remarks'],\n",
       "      dtype='object')"
      ]
     },
     "execution_count": 3,
     "metadata": {},
     "output_type": "execute_result"
    }
   ],
   "source": [
    "df.columns"
   ]
  },
  {
   "cell_type": "code",
   "execution_count": 16,
   "id": "d8c32dee",
   "metadata": {},
   "outputs": [
    {
     "name": "stdout",
     "output_type": "stream",
     "text": [
      "0    http://myneta.info/Uttarpradesh2022/candidate....\n",
      "0    http://myneta.info/uttarpradesh2017/candidate....\n",
      "0    http://myneta.info/up2012/candidate.php?candid...\n",
      "0    http://myneta.info/up2007/candidate.php?candid...\n",
      "Name: url, dtype: object\n",
      "17051\n",
      "17051\n",
      "17051\n",
      "17051\n",
      "17051\n"
     ]
    }
   ],
   "source": [
    "df['CandidateID'] = df['url']\n",
    "#df['CandidateID'] = df['CandidateID'].str.replace(\"http://myneta.info/Uttarpradesh2022/candidate.php?candidate_id=\",\"\", regex=True)\n",
    "#df['CandidateID'] = df['url'].str.replace('http://myneta.info/Uttarpradesh2022/candidate.php?candidate_id=','')\n",
    "print(df['url'][0])\n",
    "print(len(df['CandidateID']))\n",
    "df[\"CandidateID\"] = df[\"CandidateID\"].apply(lambda x: x.replace(\"http://myneta.info/Uttarpradesh2022/candidate.php?candidate_id=\", \"\"))\n",
    "print(len(df['CandidateID']))\n",
    "df[\"CandidateID\"] = df[\"CandidateID\"].apply(lambda x: x.replace(\"http://myneta.info/uttarpradesh2017/candidate.php?candidate_id=\", \"\"))\n",
    "print(len(df['CandidateID']))\n",
    "\n",
    "df[\"CandidateID\"] = df[\"CandidateID\"].apply(lambda x: x.replace(\"http://myneta.info/up2012/candidate.php?candidate_id=\", \"\"))\n",
    "print(len(df['CandidateID']))\n",
    "\n",
    "df[\"CandidateID\"] = df[\"CandidateID\"].apply(lambda x: x.replace(\"http://myneta.info/up2007/candidate.php?candidate_id=\", \"\"))\n",
    "\n",
    "print(len(df['CandidateID']))\n",
    "\n",
    "\n"
   ]
  },
  {
   "cell_type": "code",
   "execution_count": 17,
   "id": "9360433d",
   "metadata": {},
   "outputs": [
    {
     "name": "stdout",
     "output_type": "stream",
     "text": [
      "17051\n"
     ]
    }
   ],
   "source": [
    "df['id_year'] = df[\"year\"]+'_UP_'+df[\"CandidateID\"]\n",
    "print(len(df['id_year']))\n"
   ]
  },
  {
   "cell_type": "code",
   "execution_count": 18,
   "id": "62466bbf",
   "metadata": {},
   "outputs": [
    {
     "name": "stdout",
     "output_type": "stream",
     "text": [
      "2022-04-10 00:10:41.759000+05:30\n"
     ]
    }
   ],
   "source": [
    "# Print out some data about the table.\n",
    "# This will cause a request to be made to DynamoDB and its attribute\n",
    "# values will be set based on the response.\n",
    "print(table.creation_date_time)\n",
    "\n",
    "#table.put_item(\n",
    "#   Item={\n",
    "##        'id_year': 'janedoe',\n",
    " #       'first_name': 'Jane',\n",
    " #       'last_name': 'Doe',\n",
    " #       'age': 25,\n",
    " #       'account_type': 'standard_user',\n",
    " #   }\n",
    "#)\n",
    "\n"
   ]
  },
  {
   "cell_type": "code",
   "execution_count": 7,
   "id": "81a296ff",
   "metadata": {},
   "outputs": [
    {
     "name": "stdout",
     "output_type": "stream",
     "text": [
      "<class 'pandas.core.frame.DataFrame'>\n",
      "Int64Index: 17051 entries, 0 to 3188\n",
      "Data columns (total 33 columns):\n",
      " #   Column                   Non-Null Count  Dtype \n",
      "---  ------                   --------------  ----- \n",
      " 0   state                    17051 non-null  object\n",
      " 1   year                     17051 non-null  object\n",
      " 2   constituency             17051 non-null  object\n",
      " 3   ac_no                    14602 non-null  object\n",
      " 4   district                 17051 non-null  object\n",
      " 5   sub_region               11413 non-null  object\n",
      " 6   reservations             14602 non-null  object\n",
      " 7   candidate_name           17051 non-null  object\n",
      " 8   party                    17051 non-null  object\n",
      " 9   party_eci                14602 non-null  object\n",
      " 10  url                      17051 non-null  object\n",
      " 11  winner                   17051 non-null  object\n",
      " 12  gender                   17051 non-null  object\n",
      " 13  age                      16907 non-null  object\n",
      " 14  so_do                    17044 non-null  object\n",
      " 15  address                  14592 non-null  object\n",
      " 16  profession               12911 non-null  object\n",
      " 17  spouse_profession        10353 non-null  object\n",
      " 18  criminal_cases           17051 non-null  object\n",
      " 19  serious_criminal_cases   17051 non-null  object\n",
      " 20  education                17051 non-null  object\n",
      " 21  assets                   17051 non-null  object\n",
      " 22  liabilities              17051 non-null  object\n",
      " 23  net_assets               17051 non-null  object\n",
      " 24  filed_itr                13862 non-null  object\n",
      " 25  declared_pan             17051 non-null  object\n",
      " 26  recontest_url            751 non-null    object\n",
      " 27  recontest_assets_this    751 non-null    object\n",
      " 28  recontest_assets_last    751 non-null    object\n",
      " 29  recontest_assets_change  751 non-null    object\n",
      " 30  recontest_remarks        394 non-null    object\n",
      " 31  CandidateID              17051 non-null  object\n",
      " 32  id_year                  17051 non-null  object\n",
      "dtypes: object(33)\n",
      "memory usage: 4.9+ MB\n"
     ]
    }
   ],
   "source": [
    "df.info()"
   ]
  },
  {
   "cell_type": "code",
   "execution_count": 34,
   "id": "d154fd92",
   "metadata": {},
   "outputs": [
    {
     "name": "stdout",
     "output_type": "stream",
     "text": [
      "<class 'pandas.core.frame.DataFrame'>\n",
      "Int64Index: 17051 entries, 0 to 3188\n",
      "Data columns (total 33 columns):\n",
      " #   Column                   Non-Null Count  Dtype \n",
      "---  ------                   --------------  ----- \n",
      " 0   state                    17051 non-null  object\n",
      " 1   year                     17051 non-null  object\n",
      " 2   constituency             17051 non-null  object\n",
      " 3   ac_no                    17051 non-null  object\n",
      " 4   district                 17051 non-null  object\n",
      " 5   sub_region               17051 non-null  object\n",
      " 6   reservations             17051 non-null  object\n",
      " 7   candidate_name           17051 non-null  object\n",
      " 8   party                    17051 non-null  object\n",
      " 9   party_eci                17051 non-null  object\n",
      " 10  url                      17051 non-null  object\n",
      " 11  winner                   17051 non-null  object\n",
      " 12  gender                   17051 non-null  object\n",
      " 13  age                      17051 non-null  object\n",
      " 14  so_do                    17051 non-null  object\n",
      " 15  address                  17051 non-null  object\n",
      " 16  profession               17051 non-null  object\n",
      " 17  spouse_profession        17051 non-null  object\n",
      " 18  criminal_cases           17051 non-null  object\n",
      " 19  serious_criminal_cases   17051 non-null  object\n",
      " 20  education                17051 non-null  object\n",
      " 21  assets                   17051 non-null  object\n",
      " 22  liabilities              17051 non-null  object\n",
      " 23  net_assets               17051 non-null  object\n",
      " 24  filed_itr                17051 non-null  object\n",
      " 25  declared_pan             17051 non-null  object\n",
      " 26  recontest_url            17051 non-null  object\n",
      " 27  recontest_assets_this    17051 non-null  object\n",
      " 28  recontest_assets_last    17051 non-null  object\n",
      " 29  recontest_assets_change  17051 non-null  object\n",
      " 30  recontest_remarks        17051 non-null  object\n",
      " 31  CandidateID              17051 non-null  object\n",
      " 32  id_year                  17051 non-null  object\n",
      "dtypes: object(33)\n",
      "memory usage: 4.9+ MB\n"
     ]
    }
   ],
   "source": [
    "df=df.dropna(axis=1,how='all')\n",
    "\n",
    "\n",
    "df['age']= df['age'].fillna('NOT_AVAILABLE')\n",
    "df['so_do']= df['so_do'].fillna('NOT_AVAILABLE')\n",
    "df['address']= df['address'].fillna('NOT_AVAILABLE')\n",
    "df['ac_no']= df['ac_no'].fillna('NOT_AVAILABLE')\n",
    "df['sub_region']= df['sub_region'].fillna('NOT_AVAILABLE')\n",
    "df['reservations']= df['reservations'].fillna('NOT_AVAILABLE')\n",
    "df['party_eci']= df['party_eci'].fillna('NOT_AVAILABLE')\n",
    "df['profession']= df['profession'].fillna('NOT_AVAILABLE')\n",
    "df['spouse_profession']= df['spouse_profession'].fillna('NOT_AVAILABLE')\n",
    "df['recontest_url']= df['recontest_url'].fillna('NOT_AVAILABLE')\n",
    "df['filed_itr']= df['filed_itr'].fillna('NOT_AVAILABLE')\n",
    "df['recontest_assets_this']= df['recontest_assets_this'].fillna('NOT_AVAILABLE')\n",
    "\n",
    "df['recontest_assets_last']= df['recontest_assets_last'].fillna('NOT_AVAILABLE')\n",
    "\n",
    "df['recontest_assets_change']= df['recontest_assets_change'].fillna('NOT_AVAILABLE')\n",
    "\n",
    "df['recontest_remarks']= df['recontest_remarks'].fillna('NOT_AVAILABLE')\n",
    "\n",
    "df.info()"
   ]
  },
  {
   "cell_type": "code",
   "execution_count": null,
   "id": "92c2cebc",
   "metadata": {},
   "outputs": [],
   "source": [
    "items = df.to_dict(orient = 'records')\n",
    "\n",
    "with table.batch_writer() as batch:\n",
    "    for r in items:\n",
    "        batch.put_item(Item=r)"
   ]
  },
  {
   "cell_type": "code",
   "execution_count": null,
   "id": "1b3c8f49",
   "metadata": {},
   "outputs": [],
   "source": [
    "import json\n",
    "from decimal import Decimal\n",
    "item = json.loads(json.dumps(item), parse_float=Decimal)\n"
   ]
  },
  {
   "cell_type": "code",
   "execution_count": null,
   "id": "be4b0f0a",
   "metadata": {},
   "outputs": [],
   "source": []
  }
 ],
 "metadata": {
  "kernelspec": {
   "display_name": "Python 3 (ipykernel)",
   "language": "python",
   "name": "python3"
  },
  "language_info": {
   "codemirror_mode": {
    "name": "ipython",
    "version": 3
   },
   "file_extension": ".py",
   "mimetype": "text/x-python",
   "name": "python",
   "nbconvert_exporter": "python",
   "pygments_lexer": "ipython3",
   "version": "3.10.4"
  }
 },
 "nbformat": 4,
 "nbformat_minor": 5
}
